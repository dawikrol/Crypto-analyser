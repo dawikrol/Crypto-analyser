{
 "cells": [
  {
   "cell_type": "markdown",
   "metadata": {
    "collapsed": true,
    "pycharm": {
     "name": "#%% md\n"
    }
   },
   "source": [
    "# Crypto analyser"
   ]
  },
  {
   "cell_type": "markdown",
   "source": [
    "### Import library"
   ],
   "metadata": {
    "collapsed": false,
    "pycharm": {
     "name": "#%% md\n"
    }
   }
  },
  {
   "cell_type": "code",
   "execution_count": 11,
   "outputs": [],
   "source": [
    "from datetime import datetime\n",
    "from binance.client import Client\n",
    "\n",
    "import os\n",
    "import pandas as pd\n",
    "\n",
    "from sqlalchemy import create_engine, inspect"
   ],
   "metadata": {
    "collapsed": false,
    "pycharm": {
     "name": "#%%\n"
    }
   }
  },
  {
   "cell_type": "markdown",
   "source": [
    "### API connection\n",
    "The historical data regarding crypto-currencies come from www.binance.com.\n",
    "The API key is required. It is free, and here is how to get it: https://www.binance.com/en/support/faq/360002502072."
   ],
   "metadata": {
    "collapsed": false
   }
  },
  {
   "cell_type": "code",
   "execution_count": 12,
   "outputs": [],
   "source": [
    "binance_api_key = os.environ.get('binance_api_key')\n",
    "binance_api_secret = os.environ.get('binance_api_secret')\n",
    "binance_client = Client(api_key=binance_api_key, api_secret=binance_api_secret)"
   ],
   "metadata": {
    "collapsed": false,
    "pycharm": {
     "name": "#%%\n"
    }
   }
  },
  {
   "cell_type": "markdown",
   "source": [
    "### Database connection & functions"
   ],
   "metadata": {
    "collapsed": false
   }
  },
  {
   "cell_type": "code",
   "execution_count": 13,
   "outputs": [],
   "source": [
    "MYSQL_HOSTNAME = 'localhost'\n",
    "MYSQL_USER = os.environ.get('DB_USER')\n",
    "MYSQL_PASSWORD = os.environ.get('DB_PASS')\n",
    "MYSQL_DATABASE = 'cranalyserDB'\n",
    "\n",
    "connection_string = f'mysql+pymysql://{MYSQL_USER}:{MYSQL_PASSWORD}@{MYSQL_HOSTNAME}/{MYSQL_DATABASE}'\n",
    "\n",
    "engine = create_engine(connection_string)\n",
    "inspector = inspect(engine)"
   ],
   "metadata": {
    "collapsed": false,
    "pycharm": {
     "name": "#%%\n"
    }
   }
  },
  {
   "cell_type": "code",
   "execution_count": 14,
   "outputs": [],
   "source": [
    "def table_exist(table: str) -> bool:\n",
    "    if inspector.has_table(table_name=table): return True\n",
    "    else: return False\n",
    "\n",
    "def save_df(df, table: str):\n",
    "    df.to_sql(table, engine, if_exists='append')\n",
    "\n",
    "def get_df(table: str) -> pd.DataFrame:\n",
    "    df = pd.read_sql_table(table, engine)\n",
    "    return df\n",
    "\n"
   ],
   "metadata": {
    "collapsed": false,
    "pycharm": {
     "name": "#%%\n"
    }
   }
  },
  {
   "cell_type": "markdown",
   "source": [
    "### Downloading date functions"
   ],
   "metadata": {
    "collapsed": false,
    "pycharm": {
     "name": "#%% md\n",
     "is_executing": true
    }
   }
  },
  {
   "cell_type": "code",
   "execution_count": 15,
   "outputs": [],
   "source": [
    "bin_sizes = {\"1m\": 1, \"1h\": 60, \"1d\": 1440}\n",
    "\n",
    "def update_checker(cr_code, frequency, data):\n",
    "\n",
    "    \"\"\"Checks the range of data needed for download.\n",
    "\n",
    "    Parameters\n",
    "    -----------\n",
    "    cr_code : str, crypto-currency code e.g BTCUSDT available in API\n",
    "    frequency : str, determines the data download interval\n",
    "    data : pd.DataFrame, currently dataframe existing in database\n",
    "\n",
    "    Returns\n",
    "    ----------\n",
    "    old, new : datatime, points defining the range of data to download\"\"\"\n",
    "\n",
    "    if len(data) > 0: old = data[\"timestamp\"].iloc[-1]\n",
    "    else: old = datetime.strptime('1 Jan 2017', '%d %b %Y')\n",
    "    new = pd.to_datetime(binance_client.get_klines(symbol=cr_code, interval=frequency)[-1][0], unit='ms')\n",
    "    return old, new\n",
    "\n",
    "def get_from_binance(cr_code, frequency='1h', save_db=False, save_csv=False, return_df=True):\n",
    "    \"\"\"Downloads data from binance.\n",
    "\n",
    "    Parameter\n",
    "    ---------\n",
    "    cr_code : str, crypto-currency code e.g BTCUSDT available in API\n",
    "    frequency : str, optional,\n",
    "        determines the data download interval: 1m, 1h, 1d (default is 1h)\n",
    "        You can specify available frequency in bin_sizes\n",
    "    save_db : bool, optional,\n",
    "        If True new data will be append to database (default is False)\n",
    "    save_csv : bool, optional,\n",
    "        If True dataframe will be save to csv (default is False)\n",
    "    return_df : bool, optional,\n",
    "        If True dataframe is returned (default is True)\n",
    "\n",
    "    Returns\n",
    "    --------\n",
    "    dataframe (for return_df is True)\n",
    "    \"\"\"\n",
    "\n",
    "    tablename = '%s_%s_data' % (cr_code.lower(), frequency)\n",
    "\n",
    "\n",
    "    if table_exist(tablename):\n",
    "        print('ok we got it')\n",
    "        data_df = get_df(tablename)\n",
    "        print('ok we got it 2')\n",
    "    else:\n",
    "        data_df = pd.DataFrame()\n",
    "\n",
    "    oldest_point, newest_point = update_checker(cr_code, frequency, data_df)\n",
    "    if oldest_point == datetime.strptime('1 Jan 2017', '%d %b %Y'):\n",
    "        print('Downloading all available %s data for %s. Wait...' % (frequency, cr_code))\n",
    "    else: print('Downloading new available %s data for %s. Wait...!' % (frequency, cr_code))\n",
    "    data_api = binance_client.get_historical_klines(cr_code, frequency, oldest_point.strftime(\"%d %b %Y %H:%M:%S\"),\n",
    "                                                    newest_point.strftime(\"%d %b %Y %H:%M:%S\"))\n",
    "    data_api_df = pd.DataFrame(data_api,\n",
    "                               columns=['timestamp', 'open', 'high', 'low', 'close', 'volume', 'close_time', 'quote_av',\n",
    "                                        'trades', 'tb_base_av', 'tb_quote_av', 'ignore'])\n",
    "    data_api_df['timestamp'] = pd.to_datetime(data_api_df['timestamp'], unit='ms')\n",
    "    if len(data_df) > 0:\n",
    "        temp_df = pd.DataFrame(data_api_df)\n",
    "        data_df = data_df[:len(data_df)-1]\n",
    "        data_df = data_df.append(temp_df)\n",
    "    else: data_df = data_api_df\n",
    "    data_df.set_index('timestamp', inplace=True)\n",
    "    if save_db:\n",
    "        save_df(data_df, tablename)\n",
    "    if save_csv:\n",
    "        data_df.to_csv(tablename)\n",
    "    print('All data is ready!')\n",
    "    if return_df:\n",
    "        return data_df"
   ],
   "metadata": {
    "collapsed": false,
    "pycharm": {
     "name": "#%%\n"
    }
   }
  },
  {
   "cell_type": "code",
   "execution_count": 20,
   "outputs": [
    {
     "name": "stdout",
     "output_type": "stream",
     "text": [
      "Downloading all available 1d data for BTCUSDT. Wait...\n",
      "All data is ready!\n"
     ]
    }
   ],
   "source": [
    "binance_symbols = [\"BTCUSDT\"]\n",
    "for symbol in binance_symbols:\n",
    "    get_from_binance(symbol, '1d', save_db=True, return_df=True)"
   ],
   "metadata": {
    "collapsed": false,
    "pycharm": {
     "name": "#%%\n"
    }
   }
  },
  {
   "cell_type": "code",
   "execution_count": 21,
   "outputs": [
    {
     "data": {
      "text/plain": "      timestamp            open            high             low  \\\n0    2017-08-17   4261.48000000   4485.39000000   4200.74000000   \n1    2017-08-18   4285.08000000   4371.52000000   3938.77000000   \n2    2017-08-19   4108.37000000   4184.69000000   3850.00000000   \n3    2017-08-20   4120.98000000   4211.08000000   4032.62000000   \n4    2017-08-21   4069.13000000   4119.62000000   3911.79000000   \n...         ...             ...             ...             ...   \n1315 2021-03-24  54342.80000000  57200.00000000  51700.00000000   \n1316 2021-03-25  52303.66000000  53287.00000000  50427.56000000   \n1317 2021-03-26  51293.78000000  55073.46000000  51214.60000000   \n1318 2021-03-27  55025.59000000  56700.36000000  53950.00000000   \n1319 2021-03-28  55817.14000000  56559.75000000  55291.13000000   \n\n               close          volume     close_time             quote_av  \\\n0      4285.08000000    795.15037700  1503014399999     3454770.05073206   \n1      4108.37000000   1199.88826400  1503100799999     5086958.30617151   \n2      4139.98000000    381.30976300  1503187199999     1549483.73542151   \n3      4086.29000000    467.08302200  1503273599999     1930364.39032646   \n4      4016.00000000    691.74306000  1503359999999     2797231.71402728   \n...              ...             ...            ...                  ...   \n1315  52303.65000000  83537.46502100  1616630399999  4583159614.04646126   \n1316  51293.78000000  87400.53453800  1616716799999  4536327184.95786042   \n1317  55025.59000000  63813.77469200  1616803199999  3397036140.75163746   \n1318  55817.14000000  50105.47505500  1616889599999  2767070175.86193082   \n1319  55948.43000000  28385.80341900  1616975999999  1589433098.25219315   \n\n       trades      tb_base_av          tb_quote_av          ignore  \n0        3427    616.24854100     2678216.40060401   8733.91139481  \n1        5233    972.86871000     4129123.31651808   9384.14140858  \n2        2153    274.33604200     1118001.87008735   9184.08552906  \n3        2321    376.79594700     1557401.33373730  10125.41408414  \n4        3972    557.35610700     2255662.55315837  11706.76997007  \n...       ...             ...                  ...             ...  \n1315  2401988  39323.13006700  2161386678.80682066               0  \n1316  2099425  42947.39773300  2229351569.58702623               0  \n1317  1773150  31822.54523800  1694326043.33711574               0  \n1318  1528776  24739.94847100  1365965317.25052359               0  \n1319  1176113  14168.76606900   793459050.47467893               0  \n\n[1320 rows x 12 columns]",
      "text/html": "<div>\n<style scoped>\n    .dataframe tbody tr th:only-of-type {\n        vertical-align: middle;\n    }\n\n    .dataframe tbody tr th {\n        vertical-align: top;\n    }\n\n    .dataframe thead th {\n        text-align: right;\n    }\n</style>\n<table border=\"1\" class=\"dataframe\">\n  <thead>\n    <tr style=\"text-align: right;\">\n      <th></th>\n      <th>timestamp</th>\n      <th>open</th>\n      <th>high</th>\n      <th>low</th>\n      <th>close</th>\n      <th>volume</th>\n      <th>close_time</th>\n      <th>quote_av</th>\n      <th>trades</th>\n      <th>tb_base_av</th>\n      <th>tb_quote_av</th>\n      <th>ignore</th>\n    </tr>\n  </thead>\n  <tbody>\n    <tr>\n      <th>0</th>\n      <td>2017-08-17</td>\n      <td>4261.48000000</td>\n      <td>4485.39000000</td>\n      <td>4200.74000000</td>\n      <td>4285.08000000</td>\n      <td>795.15037700</td>\n      <td>1503014399999</td>\n      <td>3454770.05073206</td>\n      <td>3427</td>\n      <td>616.24854100</td>\n      <td>2678216.40060401</td>\n      <td>8733.91139481</td>\n    </tr>\n    <tr>\n      <th>1</th>\n      <td>2017-08-18</td>\n      <td>4285.08000000</td>\n      <td>4371.52000000</td>\n      <td>3938.77000000</td>\n      <td>4108.37000000</td>\n      <td>1199.88826400</td>\n      <td>1503100799999</td>\n      <td>5086958.30617151</td>\n      <td>5233</td>\n      <td>972.86871000</td>\n      <td>4129123.31651808</td>\n      <td>9384.14140858</td>\n    </tr>\n    <tr>\n      <th>2</th>\n      <td>2017-08-19</td>\n      <td>4108.37000000</td>\n      <td>4184.69000000</td>\n      <td>3850.00000000</td>\n      <td>4139.98000000</td>\n      <td>381.30976300</td>\n      <td>1503187199999</td>\n      <td>1549483.73542151</td>\n      <td>2153</td>\n      <td>274.33604200</td>\n      <td>1118001.87008735</td>\n      <td>9184.08552906</td>\n    </tr>\n    <tr>\n      <th>3</th>\n      <td>2017-08-20</td>\n      <td>4120.98000000</td>\n      <td>4211.08000000</td>\n      <td>4032.62000000</td>\n      <td>4086.29000000</td>\n      <td>467.08302200</td>\n      <td>1503273599999</td>\n      <td>1930364.39032646</td>\n      <td>2321</td>\n      <td>376.79594700</td>\n      <td>1557401.33373730</td>\n      <td>10125.41408414</td>\n    </tr>\n    <tr>\n      <th>4</th>\n      <td>2017-08-21</td>\n      <td>4069.13000000</td>\n      <td>4119.62000000</td>\n      <td>3911.79000000</td>\n      <td>4016.00000000</td>\n      <td>691.74306000</td>\n      <td>1503359999999</td>\n      <td>2797231.71402728</td>\n      <td>3972</td>\n      <td>557.35610700</td>\n      <td>2255662.55315837</td>\n      <td>11706.76997007</td>\n    </tr>\n    <tr>\n      <th>...</th>\n      <td>...</td>\n      <td>...</td>\n      <td>...</td>\n      <td>...</td>\n      <td>...</td>\n      <td>...</td>\n      <td>...</td>\n      <td>...</td>\n      <td>...</td>\n      <td>...</td>\n      <td>...</td>\n      <td>...</td>\n    </tr>\n    <tr>\n      <th>1315</th>\n      <td>2021-03-24</td>\n      <td>54342.80000000</td>\n      <td>57200.00000000</td>\n      <td>51700.00000000</td>\n      <td>52303.65000000</td>\n      <td>83537.46502100</td>\n      <td>1616630399999</td>\n      <td>4583159614.04646126</td>\n      <td>2401988</td>\n      <td>39323.13006700</td>\n      <td>2161386678.80682066</td>\n      <td>0</td>\n    </tr>\n    <tr>\n      <th>1316</th>\n      <td>2021-03-25</td>\n      <td>52303.66000000</td>\n      <td>53287.00000000</td>\n      <td>50427.56000000</td>\n      <td>51293.78000000</td>\n      <td>87400.53453800</td>\n      <td>1616716799999</td>\n      <td>4536327184.95786042</td>\n      <td>2099425</td>\n      <td>42947.39773300</td>\n      <td>2229351569.58702623</td>\n      <td>0</td>\n    </tr>\n    <tr>\n      <th>1317</th>\n      <td>2021-03-26</td>\n      <td>51293.78000000</td>\n      <td>55073.46000000</td>\n      <td>51214.60000000</td>\n      <td>55025.59000000</td>\n      <td>63813.77469200</td>\n      <td>1616803199999</td>\n      <td>3397036140.75163746</td>\n      <td>1773150</td>\n      <td>31822.54523800</td>\n      <td>1694326043.33711574</td>\n      <td>0</td>\n    </tr>\n    <tr>\n      <th>1318</th>\n      <td>2021-03-27</td>\n      <td>55025.59000000</td>\n      <td>56700.36000000</td>\n      <td>53950.00000000</td>\n      <td>55817.14000000</td>\n      <td>50105.47505500</td>\n      <td>1616889599999</td>\n      <td>2767070175.86193082</td>\n      <td>1528776</td>\n      <td>24739.94847100</td>\n      <td>1365965317.25052359</td>\n      <td>0</td>\n    </tr>\n    <tr>\n      <th>1319</th>\n      <td>2021-03-28</td>\n      <td>55817.14000000</td>\n      <td>56559.75000000</td>\n      <td>55291.13000000</td>\n      <td>55948.43000000</td>\n      <td>28385.80341900</td>\n      <td>1616975999999</td>\n      <td>1589433098.25219315</td>\n      <td>1176113</td>\n      <td>14168.76606900</td>\n      <td>793459050.47467893</td>\n      <td>0</td>\n    </tr>\n  </tbody>\n</table>\n<p>1320 rows × 12 columns</p>\n</div>"
     },
     "execution_count": 21,
     "metadata": {},
     "output_type": "execute_result"
    }
   ],
   "source": [
    "df = get_df('btcusdt_1d_data')\n",
    "df"
   ],
   "metadata": {
    "collapsed": false,
    "pycharm": {
     "name": "#%%\n"
    }
   }
  }
 ],
 "metadata": {
  "kernelspec": {
   "display_name": "Python 3",
   "language": "python",
   "name": "python3"
  },
  "language_info": {
   "codemirror_mode": {
    "name": "ipython",
    "version": 2
   },
   "file_extension": ".py",
   "mimetype": "text/x-python",
   "name": "python",
   "nbconvert_exporter": "python",
   "pygments_lexer": "ipython2",
   "version": "2.7.6"
  }
 },
 "nbformat": 4,
 "nbformat_minor": 0
}