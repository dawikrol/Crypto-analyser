{
 "cells": [
  {
   "cell_type": "markdown",
   "metadata": {
    "collapsed": true,
    "pycharm": {
     "name": "#%% md\n"
    }
   },
   "source": [
    "# Crypto analyser"
   ]
  },
  {
   "cell_type": "markdown",
   "source": [
    "### Importing libraries"
   ],
   "metadata": {
    "collapsed": false,
    "pycharm": {
     "name": "#%% md\n"
    }
   }
  },
  {
   "cell_type": "code",
   "execution_count": 9,
   "outputs": [
    {
     "data": {
      "text/html": "        <script type=\"text/javascript\">\n        window.PlotlyConfig = {MathJaxConfig: 'local'};\n        if (window.MathJax) {MathJax.Hub.Config({SVG: {font: \"STIX-Web\"}});}\n        if (typeof require !== 'undefined') {\n        require.undef(\"plotly\");\n        requirejs.config({\n            paths: {\n                'plotly': ['https://cdn.plot.ly/plotly-latest.min']\n            }\n        });\n        require(['plotly'], function(Plotly) {\n            window._Plotly = Plotly;\n        });\n        }\n        </script>\n        "
     },
     "metadata": {},
     "output_type": "display_data"
    }
   ],
   "source": [
    "from binance.client import Client\n",
    "\n",
    "import os\n",
    "import pandas as pd\n",
    "\n",
    "from sqlalchemy import create_engine, inspect\n",
    "\n",
    "import ipywidgets as widgets\n",
    "\n",
    "from IPython.display import display\n",
    "from datetime import datetime, date\n",
    "\n",
    "import plotly.offline as offline\n",
    "import plotly.graph_objs as go\n",
    "\n",
    "\n",
    "offline.init_notebook_mode(connected=True)"
   ],
   "metadata": {
    "collapsed": false,
    "pycharm": {
     "name": "#%%\n"
    }
   }
  },
  {
   "cell_type": "markdown",
   "source": [
    "### API connection\n",
    "The historical data regarding crypto-currencies come from www.binance.com.\n",
    "The API key is required. It is free, and here is how to get it: https://www.binance.com/en/support/faq/360002502072."
   ],
   "metadata": {
    "collapsed": false
   }
  },
  {
   "cell_type": "code",
   "execution_count": 10,
   "outputs": [],
   "source": [
    "binance_api_key = os.environ.get('binance_api_key')\n",
    "binance_api_secret = os.environ.get('binance_api_secret')\n",
    "binance_client = Client(api_key=binance_api_key, api_secret=binance_api_secret)"
   ],
   "metadata": {
    "collapsed": false,
    "pycharm": {
     "name": "#%%\n"
    }
   }
  },
  {
   "cell_type": "markdown",
   "source": [
    "### Database connection & functions"
   ],
   "metadata": {
    "collapsed": false
   }
  },
  {
   "cell_type": "code",
   "execution_count": 11,
   "outputs": [],
   "source": [
    "MYSQL_HOSTNAME = 'localhost'\n",
    "MYSQL_USER = os.environ.get('DB_USER')\n",
    "MYSQL_PASSWORD = os.environ.get('DB_PASS')\n",
    "MYSQL_DATABASE = 'cranalyserDB'\n",
    "\n",
    "connection_string = f'mysql+pymysql://{MYSQL_USER}:{MYSQL_PASSWORD}@{MYSQL_HOSTNAME}/{MYSQL_DATABASE}'\n",
    "\n",
    "engine = create_engine(connection_string)\n",
    "inspector = inspect(engine)"
   ],
   "metadata": {
    "collapsed": false,
    "pycharm": {
     "name": "#%%\n"
    }
   }
  },
  {
   "cell_type": "code",
   "execution_count": 12,
   "outputs": [],
   "source": [
    "def table_exist(table: str) -> bool:\n",
    "    if inspector.has_table(table_name=table): return True\n",
    "    else: return False\n",
    "\n",
    "def save_df(df, table: str):\n",
    "    df.to_sql(table, engine, if_exists='replace')\n",
    "\n",
    "def get_df(table: str) -> pd.DataFrame:\n",
    "    df = pd.read_sql_table(table, engine)\n",
    "    return df"
   ],
   "metadata": {
    "collapsed": false,
    "pycharm": {
     "name": "#%%\n"
    }
   }
  },
  {
   "cell_type": "markdown",
   "source": [
    "### Downloading data functions"
   ],
   "metadata": {
    "collapsed": false,
    "pycharm": {
     "name": "#%% md\n"
    }
   }
  },
  {
   "cell_type": "code",
   "execution_count": 24,
   "outputs": [],
   "source": [
    "bin_sizes = {'1m': 1, '1h': 60, '1d': 1440}\n",
    "\n",
    "def update_checker(cr_code, frequency, data):\n",
    "\n",
    "    \"\"\"Checks the range of data needed for download.\n",
    "\n",
    "    Parameters\n",
    "    -----------\n",
    "    cr_code : str, crypto-currency code e.g BTCUSDT available in API\n",
    "    frequency : str, determines the data download interval\n",
    "    data : pd.DataFrame, currently dataframe existing in database\n",
    "\n",
    "    Returns\n",
    "    ----------\n",
    "    old, new : datatime, points defining the range of data to download\"\"\"\n",
    "\n",
    "    if len(data) > 0: old = data['timestamp'].iloc[-1]\n",
    "    else: old = datetime.strptime('1 Jan 2017', '%d %b %Y')\n",
    "    new = pd.to_datetime(binance_client.get_klines(symbol=cr_code, interval=frequency)[-1][0], unit='ms')\n",
    "    return old, new\n",
    "\n",
    "\n",
    "def get_from_binance(cr_code, frequency='1h', save_db=False, save_csv=False, return_df=True):\n",
    "    \n",
    "    \"\"\"Downloads data from binance.\n",
    "\n",
    "    Parameter\n",
    "    ---------\n",
    "    cr_code : str, crypto-currency code e.g BTCUSDT available in API\n",
    "    frequency : str, optional,\n",
    "        determines the data download interval: 1m, 1h, 1d (default is 1h)\n",
    "        You can specify available frequency in bin_sizes\n",
    "    save_db : bool, optional,\n",
    "        If True new data will be append to database (default is False)\n",
    "    save_csv : bool, optional,\n",
    "        If True dataframe will be save to csv (default is False)\n",
    "    return_df : bool, optional,\n",
    "        If True dataframe is returned (default is True)\n",
    "\n",
    "    Returns\n",
    "    --------\n",
    "    dataframe (for return_df is True)\n",
    "    \"\"\"\n",
    "\n",
    "    data_set_name = '%s_%s_data' % (cr_code.lower(), frequency)\n",
    "\n",
    "    if table_exist(data_set_name):\n",
    "        data_df = get_df(data_set_name)\n",
    "    else:\n",
    "        data_df = pd.DataFrame()\n",
    "\n",
    "    oldest_point, newest_point = update_checker(cr_code, frequency, data_df)\n",
    "    if oldest_point == datetime.strptime('1 Jan 2017', '%d %b %Y'):\n",
    "        print('Downloading all available %s data for %s. Wait...' % (frequency, cr_code))\n",
    "    else: print('Downloading new available %s data for %s. Wait...!' % (frequency, cr_code))\n",
    "    data_api = binance_client.get_historical_klines(cr_code, frequency, oldest_point.strftime(\"%d %b %Y %H:%M:%S\"),\n",
    "                                                    newest_point.strftime(\"%d %b %Y %H:%M:%S\"))\n",
    "    data_api_df = pd.DataFrame(data_api,\n",
    "                               columns=['timestamp', 'open', 'high', 'low', 'close', 'volume', 'close_time', 'quote_av',\n",
    "                                        'trades', 'tb_base_av', 'tb_quote_av', 'ignore'])\n",
    "\n",
    "    data_api_df['timestamp'] = pd.to_datetime(data_api_df['timestamp'], unit='ms')\n",
    "    if len(data_df) > 0:\n",
    "        data_df = data_df[:len(data_df)-1]\n",
    "        data_df = data_df.append(data_api_df)\n",
    "        data_df.reset_index(drop=True, inplace=True)\n",
    "\n",
    "    else: data_df = data_api_df\n",
    "\n",
    "    data_df.set_index('timestamp', drop=True, inplace=True)\n",
    "\n",
    "    if save_db:\n",
    "        save_df(data_df, data_set_name)\n",
    "\n",
    "    if save_csv:\n",
    "        data_df.to_csv(data_set_name)\n",
    "\n",
    "    if return_df:\n",
    "        return data_df\n",
    "\n",
    "    print('All data is ready!')"
   ],
   "metadata": {
    "collapsed": false,
    "pycharm": {
     "name": "#%%\n"
    }
   }
  },
  {
   "cell_type": "markdown",
   "source": [
    "### Create widgets and plots"
   ],
   "metadata": {
    "collapsed": false
   }
  },
  {
   "cell_type": "code",
   "execution_count": 14,
   "outputs": [],
   "source": [
    "# Plots creating\n",
    "\n",
    "def get_time_series_plot(data_fr, cr):\n",
    "    trace_high = go.Scatter(x=data_fr['timestamp'], y=data_fr['high'],\n",
    "                            name=f'{cr} high price', line = dict(color = '#6699FF'))\n",
    "    trace_low = go.Scatter(x=data_fr['timestamp'], y=data_fr['low'],\n",
    "                           name=f'{cr} low price', line = dict(color = '#FF6633'))\n",
    "    data = [trace_high, trace_low]\n",
    "    layout = go.Layout(title=dict(text = f'{cr} price'),\n",
    "                       xaxis = dict(rangeslider=dict(), type='date'),\n",
    "                       yaxis=dict(title=' Price in USD'))\n",
    "    fig = go.Figure(data=data, layout=layout)\n",
    "    return fig.show()\n",
    "\n",
    "def get_candlestick_plot(data_fr, cr):\n",
    "    trace = go.Candlestick(x=data_fr.timestamp,\n",
    "                           open=data_fr.open,\n",
    "                           high=data_fr.high,\n",
    "                           low=data_fr.low,\n",
    "                           close=data_fr.close,\n",
    "                           increasing = dict(fillcolor = 'greenyellow',\n",
    "                                         line = dict(color = 'green',\n",
    "                                                     width = 3)),\n",
    "\n",
    "                           decreasing = dict(fillcolor = 'lightcoral'),\n",
    "                           whiskerwidth=0.4)\n",
    "    data = [trace]\n",
    "    layout = go.Layout(title=dict(text = f'{cr} candlestick'),\n",
    "                       xaxis = dict(rangeslider=dict(), type='date'),\n",
    "                       yaxis=dict(title=' Price in USD'))\n",
    "    fig = go.Figure(data=data, layout=layout)\n",
    "    return fig.show()"
   ],
   "metadata": {
    "collapsed": false,
    "pycharm": {
     "name": "#%%\n"
    }
   }
  },
  {
   "cell_type": "code",
   "execution_count": 15,
   "outputs": [],
   "source": [
    "# Widgets creating\n",
    "widget_output = widgets.Output()\n",
    "plot_output = widgets.Output()\n",
    "candlestick_output = widgets.Output()\n",
    "\n",
    "cryptocurrencies = {\n",
    "    'Bitcoin': 'btcusdt',\n",
    "    'BinanceCoin': 'bnbusdt',\n",
    "    'Ethereum': 'ethusdt',\n",
    "    'Litecoin': 'ltcusdt',\n",
    "    'XRP': 'xrpusdt'\n",
    "}\n",
    "\n",
    "\n",
    "dropdown_currency = widgets.Dropdown(options=list(cryptocurrencies.keys()), description='Currency:')\n",
    "interval_radio = widgets.RadioButtons(options=['1m', '1h', '1d'], value='1d', description='Data interval:')\n",
    "\n",
    "dates = pd.date_range(datetime(2017, 8, 17), date.today().strftime(\"%Y %m %d\"), freq='D')\n",
    "options = [(date.strftime(' %d %b %Y '), date) for date in dates]\n",
    "index = (0, len(options)-1)\n",
    "\n",
    "date_range_slider = widgets.SelectionRangeSlider(options=options, index=index,\n",
    "                                          description='Dates', orientation='horizontal', layout={'width': '600px'})\n",
    "get_data_button = widgets.Button(description='Get data!')\n",
    "\n",
    "\n",
    "\n",
    "def get_output(currency, interval, start, stop):\n",
    "    widget_output.clear_output()\n",
    "    plot_output.clear_output()\n",
    "    candlestick_output.clear_output()\n",
    "\n",
    "    get_from_binance(f'{cryptocurrencies[currency]}'.upper(), interval, save_db=True, return_df=False)\n",
    "    data_fr = get_df(f'{cryptocurrencies[currency].lower()}_{interval}_data')\n",
    "    data_fr = data_fr[(data_fr['timestamp'] >= start) & (data_fr['timestamp'] <= stop)]\n",
    "\n",
    "    with widget_output:\n",
    "        display(data_fr)\n",
    "\n",
    "    with plot_output:\n",
    "         get_time_series_plot(data_fr, currency)\n",
    "\n",
    "    with candlestick_output:\n",
    "        get_candlestick_plot(data_fr, currency)\n",
    "\n",
    "\n",
    "def get_data_button_event_handler(button):\n",
    "    start = date_range_slider.value[0]\n",
    "    stop = date_range_slider.value[1]\n",
    "    get_output(dropdown_currency.value, interval_radio.value, start, stop)\n",
    "\n",
    "get_data_button.on_click(get_data_button_event_handler)"
   ],
   "metadata": {
    "collapsed": false,
    "pycharm": {
     "name": "#%%\n"
    }
   }
  },
  {
   "cell_type": "code",
   "execution_count": 16,
   "outputs": [],
   "source": [
    "# Dashboard creating\n",
    "\n",
    "item_layout = widgets.Layout(margin='0 0 50px 0')\n",
    "\n",
    "input_widgets = widgets.HBox([interval_radio, dropdown_currency, date_range_slider], layout=item_layout)\n",
    "input_bt = widgets.HBox([get_data_button], layout=item_layout)\n",
    "\n",
    "tab = widgets.Tab([widget_output, plot_output, candlestick_output], layout=item_layout)\n",
    "tab.set_title(0, 'Dataset Exploration')\n",
    "tab.set_title(1, 'Time series Plot')\n",
    "tab.set_title(2, 'Candlestick Plot')\n",
    "\n",
    "dashboard = widgets.VBox([input_widgets, input_bt, tab])"
   ],
   "metadata": {
    "collapsed": false,
    "pycharm": {
     "name": "#%%\n"
    }
   }
  },
  {
   "cell_type": "markdown",
   "source": [
    "### Dashboard"
   ],
   "metadata": {
    "collapsed": false,
    "pycharm": {
     "name": "#%% md\n"
    }
   }
  },
  {
   "cell_type": "code",
   "execution_count": 19,
   "outputs": [
    {
     "data": {
      "text/plain": "VBox(children=(HBox(children=(RadioButtons(description='Data interval:', index=2, options=('1m', '1h', '1d'), …",
      "application/vnd.jupyter.widget-view+json": {
       "version_major": 2,
       "version_minor": 0,
       "model_id": "75f892d7307b41e581f8706066eb33ac"
      }
     },
     "metadata": {},
     "output_type": "display_data"
    },
    {
     "name": "stdout",
     "output_type": "stream",
     "text": [
      "Downloading new available 1d data for BTCUSDT. Wait...!\n",
      "All data is ready!\n"
     ]
    }
   ],
   "source": [
    "display(dashboard)\n"
   ],
   "metadata": {
    "collapsed": false,
    "pycharm": {
     "name": "#%%\n"
    }
   }
  }
 ],
 "metadata": {
  "kernelspec": {
   "name": "python3",
   "language": "python",
   "display_name": "Python 3"
  },
  "language_info": {
   "codemirror_mode": {
    "name": "ipython",
    "version": 2
   },
   "file_extension": ".py",
   "mimetype": "text/x-python",
   "name": "python",
   "nbconvert_exporter": "python",
   "pygments_lexer": "ipython2",
   "version": "2.7.6"
  }
 },
 "nbformat": 4,
 "nbformat_minor": 0
}